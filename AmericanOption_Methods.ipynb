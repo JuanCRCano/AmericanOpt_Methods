{
 "cells": [
  {
   "attachments": {
    "Binomial%20Tree.png": {
     "image/png": "[encoded data removed]"
    }
   },
   "cell_type": "markdown",
   "metadata": {},
   "source": [
    "## Contratos de Opción\n",
    "\n",
    "### Ejercimiento Americana\n",
    "\n",
    "#### Para la comparación de los modelos, se realizara la valuación de AL DC19 S=20.25 K=22 al 22 de Febrero del 2019\n",
    "\n",
    "#### Modelos base de valuación propuestos:\n",
    "\n",
    "##### &emsp; &emsp; &ensp;  Binomial Lattice (Cox-Ross & Rubinstein)(Actual)\n",
    "##### &emsp; &emsp; &ensp;  Algoritmo:\n",
    "\n",
    "&emsp; &emsp; &ensp; I. Creación del arbol binomial del precio del Subyacente\n",
    "\n",
    "![Binomial%20Tree.png](attachment:Binomial%20Tree.png)\n",
    "\n",
    "&emsp; &emsp; &ensp; &emsp; &ensp; Donde:\n",
    "\n",
    "&emsp; &emsp; &ensp; &emsp; &emsp; &ensp; $u = e^{\\sigma\\sqrt{\\triangle t}}$\n",
    "\n",
    "&emsp; &emsp; &ensp; &emsp; &emsp; &ensp; $d = e^{-\\sigma\\sqrt{\\triangle t}}$\n",
    "\n",
    "&emsp; &emsp; &ensp; &emsp; &emsp; &ensp; $S_{0}$ = Precio Spot del subyacente\n",
    "\n",
    "&emsp; &emsp; &ensp;  II. Sea $N$ = Número de ramificaciones del arbol, calcular en $n=N$: \n",
    "\n",
    "&emsp; &emsp; &ensp; &emsp; &ensp; $C_{T \\:,\\:N} = Max(S_{T} - K,0)$ para una opción de compra\n",
    "\n",
    "&emsp; &emsp; &ensp; &emsp; &ensp; $C_{T \\:,\\:N} = Max(K - S_{T},0)$ para una opción de venta\n",
    "\n",
    "&emsp; &emsp; &ensp;  III. Encontrar el valor de la opción en los nodos previos al vencimiento:\n",
    "\n",
    "&emsp; &emsp; &ensp; &emsp; &ensp; $ C_{t,\\:i} = Max(\\:\\exp^{-r \\triangle t}\\:(p\\:f_{u} + (1-p)f_{d})\\:,\\:S_{t} - K\\:) $ para una opción de compra.\n",
    "\n",
    "&emsp; &emsp; &ensp; &emsp; &ensp; $ C_{t,\\:i} = Max(\\:\\exp^{-r \\triangle t}\\:(p\\:f_{u} + (1-p)f_{d})\\:,\\:K - S_{t}\\:) $ para una opción de venta.\n",
    "\n",
    "&emsp; &emsp; &ensp; &emsp; &ensp; Donde: \n",
    "\n",
    "&emsp; &emsp; &ensp; &emsp; &emsp; &ensp; $ p = \\frac{e^{r\\triangle t} - d}{u-d} $\n",
    "\n",
    "&emsp; &emsp; &ensp; &emsp; &emsp; &ensp; $ f_{u} $ = Valor de la Opción en un escenario de alza\n",
    "\n",
    "&emsp; &emsp; &ensp; &emsp; &emsp; &ensp; $ f_{d} $ = Valor de la Opción en un escenario de baja\n",
    "\n",
    "&emsp; &emsp; &ensp; &emsp; &emsp; &ensp; $ C_{t,i} $ = Valor de la Opcion al tiempo t en el nodo i del arbol derivado\n",
    "\n",
    "&emsp; &emsp; &ensp;  IV. El valor de la opción determinado por el algoritmo es $C_{\\:0\\:,\\:0\\:}$ "
   ]
  },
  {
   "cell_type": "code",
   "execution_count": 1,
   "metadata": {},
   "outputs": [],
   "source": [
    "# Importarmos Curva de descuento\n",
    "import pandas as pd\n",
    "IRSTIIE = pd.read_excel(\"Y:/RIESGOS/Capacitación/Discovery SAS/Insumos Discovery Opciones/Curvas.xlsx\",\"TIIE IRS\").iloc[:,3]"
   ]
  },
  {
   "cell_type": "code",
   "execution_count": 3,
   "metadata": {},
   "outputs": [],
   "source": [
    "import math as mt\n",
    "import pandas as pd\n",
    "import numpy as np\n",
    "\n",
    "def Binomial_Tree(Spot,Strike,Vencimiento,Volatilidad,TLibre_Riesgo,Call_Put,Tasa_Foranea=0,Tasa_Dividendo=0,Ramificaciones_Arbol=100,Modelo=\"Cox Equity\"):\n",
    "    if Modelo == \"Cox Equity\":\n",
    "        ConfigModelo = TLibre_Riesgo - Tasa_Dividendo\n",
    "    if Modelo == \"Cox Futuros\":\n",
    "        ConfigModelo = 0\n",
    "    if Modelo == \"Cox Divisas\":\n",
    "        ConfigModelo = TLibre_Riesgo - Tasa_Foranea\n",
    "    \n",
    "    Arbol_Subyacente = np.zeros((Ramificaciones_Arbol+1,Ramificaciones_Arbol+1))\n",
    "    Arbol_Derivado = np.zeros((Ramificaciones_Arbol+1,Ramificaciones_Arbol+1))\n",
    "    \n",
    "    Vencimiento = Vencimiento/365.0\n",
    "    Steps = Vencimiento/Ramificaciones_Arbol\n",
    "    Up = mt.exp(Volatilidad*mt.sqrt(Steps))\n",
    "    Down = mt.exp(-Volatilidad*mt.sqrt(Steps))\n",
    "    P = (mt.exp(ConfigModelo*Steps) - Down)/(Up - Down)\n",
    "    \n",
    "    # Obtener las ultimas ramas del arbol binomial del precio del subyacente\n",
    "    Arbol_Subyacente[0,0] = Spot\n",
    "    \n",
    "    for i in range(1,Ramificaciones_Arbol+1):\n",
    "        Arbol_Subyacente[i,0] = Arbol_Subyacente[i-1,0]*Up\n",
    "        for j in range(1,i+1):\n",
    "            Arbol_Subyacente[i,j] = Arbol_Subyacente[i-1,j-1]*Down\n",
    "    \n",
    "    for j in range(Ramificaciones_Arbol+1):\n",
    "        Arbol_Derivado[Ramificaciones_Arbol,j] = max(0,Call_Put*(Arbol_Subyacente[Ramificaciones_Arbol,j]-Strike))\n",
    "    \n",
    "    for m in range(Ramificaciones_Arbol+1):\n",
    "        i = Ramificaciones_Arbol-m-1\n",
    "        for j in range(i+1):\n",
    "            Arbol_Derivado[i,j] = max(Call_Put*(Arbol_Subyacente[i,j]-Strike),(P*Arbol_Derivado[i+1,j]+(1-P)*Arbol_Derivado[i+1,j+1])*mt.exp(-TLibre_Riesgo*Steps))\n",
    "    \n",
    "    #return pd.concat([pd.DataFrame(Arbol_Subyacente).replace(0,\"\"),pd.DataFrame(Arbol_Derivado).replace(0,\"\")]) \n",
    "    return Arbol_Derivado[0,0]"
   ]
  },
  {
   "cell_type": "code",
   "execution_count": 4,
   "metadata": {
    "scrolled": true
   },
   "outputs": [
    {
     "data": {
      "text/plain": [
       "2.1588540227046344"
      ]
     },
     "execution_count": 4,
     "metadata": {},
     "output_type": "execute_result"
    }
   ],
   "source": [
    "Binomial_Tree(Spot=20.25,Strike=22,Vencimiento=287,Volatilidad=.32,TLibre_Riesgo=IRSTIIE[287-1]/100,\n",
    "                       Call_Put=1,Tasa_Foranea=0,Tasa_Dividendo=0,Ramificaciones_Arbol=1000,Modelo=\"Cox Equity\")"
   ]
  },
  {
   "attachments": {
    "Trinomial%20Tree.png": {
     "image/png": "[encoded data removed]"
    }
   },
   "cell_type": "markdown",
   "metadata": {},
   "source": [
    "##### &emsp; &emsp; &ensp;  Trinomial Lattice model (Boyle)\n",
    "##### &emsp; &emsp; &ensp;  Algoritmo:\n",
    "\n",
    "&emsp; &emsp; &ensp; I. Creacion del arbol trinomial del precio del Subyacente\n",
    "\n",
    "![Trinomial%20Tree.png](attachment:Trinomial%20Tree.png)\n",
    "\n",
    "&emsp; &emsp; &ensp; &emsp; &ensp; Donde:\n",
    "\n",
    "&emsp; &emsp; &ensp; &emsp; &emsp; &ensp; $u = e^{\\sigma\\sqrt{2\\triangle t}}$\n",
    "\n",
    "&emsp; &emsp; &ensp; &emsp; &emsp; &ensp; $d = e^{-\\sigma\\sqrt{2\\triangle t}}$\n",
    "\n",
    "&emsp; &emsp; &ensp; &emsp; &emsp; &ensp; $m = 1 $\n",
    "\n",
    "&emsp; &emsp; &ensp; &emsp; &emsp; &ensp; $S_{0}$ = Precio Spot del subyacente\n",
    "\n",
    "&emsp; &emsp; &ensp;  II. Sea $N$ = Número de ramificaciones del arbol, calcular en $n=N$: \n",
    "\n",
    "&emsp; &emsp; &ensp; &emsp; &ensp; $C_{T \\:,\\:N} = Max(S_{T} - K,0)$ para una opción de compra\n",
    "\n",
    "&emsp; &emsp; &ensp; &emsp; &ensp; $C_{T \\:,\\:N} = Max(K - S_{T},0)$ para una opción de venta\n",
    "\n",
    "&emsp; &emsp; &ensp;  III. Encontrar el valor de la opción en los nodos previos al vencimiento:\n",
    "\n",
    "&emsp; &emsp; &ensp; &emsp; &ensp; $ C_{t,\\:i} = Max(\\:\\exp^{-r \\triangle t}\\:(p_{u}f_{u} + p_{m}f_{m} + p_{d}f{d})\\:,\\:S_{t} - K\\:) $ para una opción de compra.\n",
    "\n",
    "&emsp; &emsp; &ensp; &emsp; &ensp; $ C_{t,\\:i} = Max(\\:\\exp^{-r \\triangle t}\\:(p_{u}f_{u} + p_{m}f_{m} + p_{d}f{d})\\:,\\:K - S_{t}\\:) $ para una opción de venta.\n",
    "\n",
    "&emsp; &emsp; &ensp; &emsp; &ensp; Donde: \n",
    "\n",
    "&emsp; &emsp; &ensp; &emsp; &emsp; &ensp; $ p_{u} = \\left(\\frac{e^{r\\frac{\\triangle t}{2}} - e^{-\\sigma \\sqrt \\frac{\\triangle t}{2}}}{e^{\\sigma\\sqrt\\frac{\\triangle t}{2}} - e^{-\\sigma\\sqrt\\frac{\\triangle t}{2}}}\\right)^{2} $\n",
    "\n",
    "&emsp; &emsp; &ensp; &emsp; &emsp; &ensp; $ p_{d} = \\left(\\frac{e^{\\sigma\\sqrt\\frac{\\triangle t}{2}} - e^{r\\frac{\\triangle t}{2}}}{e^{\\sigma\\sqrt\\frac{\\triangle t}{2}} - e^{-\\sigma\\sqrt\\frac{\\triangle t}{2}}}\\right)^{2} $\n",
    "\n",
    "&emsp; &emsp; &ensp; &emsp; &emsp; &ensp; $ p_{m} = 1 \\: - \\: p_{u} - p_{d} $\n",
    "\n",
    "&emsp; &emsp; &ensp; &emsp; &emsp; &ensp; $ f_{u} $ = Valor de la Opción en un escenario de alza\n",
    "\n",
    "&emsp; &emsp; &ensp; &emsp; &emsp; &ensp; $ f_{d} $ = Valor de la Opción en un escenario de baja\n",
    "\n",
    "&emsp; &emsp; &ensp; &emsp; &emsp; &ensp; $ f_{m} $ = Valor de la Opción en un escenario de sin movimiento\n",
    "\n",
    "&emsp; &emsp; &ensp; &emsp; &emsp; &ensp; $ C_{t,i} $ = Valor de la Opcion al tiempo t en el nodo i del arbol derivado\n",
    "\n",
    "&emsp; &emsp; &ensp;  IV. El valor de la opción determinado por el algoritmo es $C_{\\:0\\:,\\:0\\:}$ \n",
    "\n"
   ]
  },
  {
   "cell_type": "code",
   "execution_count": 7,
   "metadata": {},
   "outputs": [],
   "source": [
    "import math as Mt\n",
    "def Trinomial_Tree(Spot,Strike,Vencimiento,Volatilidad,TLibre_Riesgo,Call_Put,Tasa_Foranea=0,Tasa_Dividendo=0,Ramificaciones_Arbol=100,Modelo=\"Cox Equity\"):\n",
    "    if Modelo == \"Cox Equity\":\n",
    "        ConfigModelo = TLibre_Riesgo - Tasa_Dividendo\n",
    "    if Modelo == \"Cox Futuros\":\n",
    "        ConfigModelo = 0\n",
    "    if Modelo == \"Cox Divisas\":\n",
    "        ConfigModelo = TLibre_Riesgo - Tasa_Foranea\n",
    "    \n",
    "    Arbol_Subyacente = np.zeros((Ramificaciones_Arbol+1,(2*Ramificaciones_Arbol)+1))\n",
    "    Arbol_Derivado = np.zeros((Ramificaciones_Arbol+1,(2*Ramificaciones_Arbol)+1))\n",
    "    \n",
    "    Vencimiento = Vencimiento/365.0\n",
    "    Steps = Vencimiento/Ramificaciones_Arbol\n",
    "    Up = Mt.exp(Volatilidad*Mt.sqrt(2*Steps))\n",
    "    Down = Mt.exp(-Volatilidad*Mt.sqrt(2*Steps))\n",
    "    Pu = ((Mt.exp(TLibre_Riesgo*Steps/2)-Mt.exp(-Volatilidad*Mt.sqrt(Steps/2)))/(Mt.exp(Volatilidad*Mt.sqrt(Steps/2))-Mt.exp(-Volatilidad*Mt.sqrt(Steps/2))))**2\n",
    "    Pd = ((Mt.exp(Volatilidad*Mt.sqrt(Steps/2))-Mt.exp(TLibre_Riesgo*Steps/2))/(Mt.exp(Volatilidad*Mt.sqrt(Steps/2))-Mt.exp(-Volatilidad*Mt.sqrt(Steps/2))))**2\n",
    "    Pm = 1-(Pu+Pd)\n",
    "    \n",
    "    # Obtener las ultimas ramas del arbol binomial del precio del subyacente\n",
    "    Arbol_Subyacente[0,0] = Spot\n",
    "    \n",
    "    for i in range(1,Ramificaciones_Arbol+1):\n",
    "        Arbol_Subyacente[i,0] = Arbol_Subyacente[i-1,0]*Up\n",
    "        for j in range(1,(2*i)):\n",
    "            Arbol_Subyacente[i,j] = Arbol_Subyacente[i-1,j-1]\n",
    "            Arbol_Subyacente[i,j+1] = Arbol_Subyacente[i-1,j-1]*Down\n",
    "        \n",
    "    for j in range((2*Ramificaciones_Arbol)+1):\n",
    "        Arbol_Derivado[Ramificaciones_Arbol,j] = max(Call_Put*(Arbol_Subyacente[Ramificaciones_Arbol,j]-Strike),0)\n",
    "    \n",
    "    for m in range(Ramificaciones_Arbol+1):\n",
    "        i = Ramificaciones_Arbol-m-1\n",
    "        for j in range((2*i) + 1):\n",
    "            Arbol_Derivado[i,j] = max(Call_Put*(Arbol_Subyacente[i,j]-Strike),(Pu*Arbol_Derivado[i+1,j]+Pm*Arbol_Derivado[i+1,j+1]+Pd*Arbol_Derivado[i+1,j+2])*Mt.exp(-TLibre_Riesgo*Steps))\n",
    "\n",
    "    #return pd.concat([pd.DataFrame(Arbol_Subyacente).replace(0,\"\"),pd.DataFrame(Arbol_Derivado).replace(0,\"\")])\n",
    "    return Arbol_Derivado[0,0]"
   ]
  },
  {
   "cell_type": "code",
   "execution_count": 8,
   "metadata": {
    "scrolled": true
   },
   "outputs": [
    {
     "data": {
      "text/plain": [
       "2.1586800025168826"
      ]
     },
     "execution_count": 8,
     "metadata": {},
     "output_type": "execute_result"
    }
   ],
   "source": [
    "Trinomial_Tree(Spot=20.25,Strike=22,Vencimiento=287,Volatilidad=.32,TLibre_Riesgo=IRSTIIE[287-1]/100,\n",
    "                       Call_Put=1,Tasa_Foranea=0,Tasa_Dividendo=0,Ramificaciones_Arbol=750,Modelo=\"Cox Equity\")"
   ]
  },
  {
   "cell_type": "markdown",
   "metadata": {},
   "source": [
    "##### &emsp; &emsp; &ensp;  Least-Squares Monte Carlo Simulation\n",
    "##### &emsp; &emsp; &ensp;  Algoritmo:\n",
    "\n",
    "&emsp; &emsp; &ensp; I. Simular los $m$ caminos del Subyacente\n",
    "\n",
    "&emsp; &emsp; &ensp; &emsp; &emsp; $S_{i}^{m} = $ Valor del subyacente simulado en el nodo $i$ del camino $m$\n",
    "\n",
    "&emsp; &emsp; &ensp; &emsp; &emsp; $S_{i+1}^{m} = S_{i}^{m}\\:e^{\\:(r-\\frac{\\sigma^{2}}{2})\\:\\triangle t\\:+\\: \\phi\\sqrt{\\triangle t\\:\\sigma^{2}}}$\n",
    "\n",
    "&emsp; &emsp; &ensp; &emsp; &emsp; $\\phi = $ Variable aleatoria con Distribucion Normal Estandar\n",
    "\n",
    "&emsp; &emsp; &ensp; II. Simular el valor de Ejercimiento en T utilizando los caminos simulados del Subyacente\n",
    "\n",
    "&emsp; &emsp; &ensp; &emsp; &emsp; $S_{T}^{m} - K$ para Opciones de compra\n",
    "\n",
    "&emsp; &emsp; &ensp; &emsp; &emsp; $K - S_{T}^{m}$ para Opciones de venta\n",
    "\n",
    "&emsp; &emsp; &ensp; III. Determinar el valor de Ejercimiento ($EV$), Continuidad ($HV$), Esperado de Continuidad ($\\hat{E[HV]}$) y Opción ($OV$) para $t\\:<\\:T$: \n",
    "\n",
    "&emsp; &emsp; &ensp; &emsp; &emsp; $EV_{t} = S_{t}^{m} - K$ para Opciones de compra\n",
    "\n",
    "&emsp; &emsp; &ensp; &emsp; &emsp; $EV_{t} = K - S_{t}^{m}$ para Opciones de venta\n",
    "\n",
    "&emsp; &emsp; &ensp; &emsp; &emsp; $HV_{t} = OV_{t+1} \\:e^{-r\\triangle t}$\n",
    "\n",
    "&emsp; &emsp; &ensp; &emsp; &emsp; $\\hat{E[HV]_{t}} = \\hat{\\alpha} \\: + \\: \\hat{\\beta_{0}} S_{t} + \\: \\hat{\\beta_{1}} S_{t}^{2} $\n",
    "\n",
    "&emsp; &emsp; &ensp; &emsp; &emsp; $OV_{t} = Max(\\hat{E[HV]_{t}},EV_{t}) $\n",
    "\n",
    "&emsp; &emsp; &ensp; &emsp; &ensp; Donde: \n",
    "\n",
    "&emsp; &emsp; &ensp; &emsp; &emsp; &ensp; $\\hat{\\alpha} \\: , \\: \\hat{\\beta_{0}} \\: , \\: \\hat{\\beta_{1}} $ se obtienen de la ecuación regresiva  $HV_{t} = \\alpha \\: + \\: \\beta_{0} S_{t} + \\: \\beta_{1}S_{t}^{2} + \\: \\beta_{2}S_{t}^{3} + \\omega$\n",
    "\n",
    "&emsp; &emsp; &ensp; &emsp; &emsp; &ensp; $\\omega =$ Componente de Ruido blanco\n",
    "\n",
    "&emsp; &emsp; &ensp; &emsp; &emsp; &ensp; $\\alpha$ se tómata como 0 en nuestra ecuación regresiva\n",
    "\n",
    "&emsp; &emsp; &ensp;IV. Realizar el punto III de manera iterativa hasta $t = 0$\n",
    "\n",
    "&emsp; &emsp; &ensp;V. El valor de la opción sera el promedio de los caminos del derivado en $t = 0$"
   ]
  },
  {
   "cell_type": "code",
   "execution_count": 9,
   "metadata": {},
   "outputs": [],
   "source": [
    "import numpy as np\n",
    "import math as mt\n",
    "from sklearn.linear_model import LinearRegression\n",
    "\n",
    "def LSM(Spot,Strike,Vencimiento,Volatilidad,TLibre_Riesgo,Call_Put,NumSim=10,CambiosXDia=1):\n",
    "\n",
    "    Deltat = 1/(Vencimiento*CambiosXDia) # Asumo N Cambios en el precio del subyacente por cada día\n",
    "    Caminos_Subyacente = np.zeros((NumSim,(Vencimiento*CambiosXDia)+1))\n",
    "    v = Volatilidad/mt.sqrt(365/Vencimiento) # Se ajusta v pues v es anualizada\n",
    "    r = TLibre_Riesgo/(365/Vencimiento) # Se ajusta r pues r es anualizada\n",
    "\n",
    "    for m in range(0,NumSim):\n",
    "        Caminos_Subyacente[m,0] = Spot\n",
    "        for t in range(1,(Vencimiento*CambiosXDia)+1):\n",
    "            Caminos_Subyacente[m,t] = Caminos_Subyacente[m,t-1]*mt.exp((r - (v**2)/2)*Deltat + np.random.normal(0,1)*mt.sqrt((v**2)*Deltat))\n",
    "\n",
    "    Caminos_Derivado = np.zeros((NumSim,(Vencimiento*CambiosXDia)+1)) \n",
    "    Caminos_Derivado[:,(Vencimiento*CambiosXDia)] = np.maximum((Caminos_Subyacente[:,(Vencimiento*CambiosXDia)] - Strike)*Call_Put,0) \n",
    "\n",
    "    for t in range((Vencimiento*CambiosXDia)-1,-1,-1):\n",
    "        Caminos_Derivado[:,t] = Caminos_Derivado[:,t+1]*mt.exp(-r*Deltat) # Valor de Continuidad Observado (HV)\n",
    "        Caminos_EnEl_Dinero = ((Caminos_Subyacente[:,t]-Strike)*Call_Put>0)\n",
    "        if Caminos_EnEl_Dinero.sum()>0:    \n",
    "            Tabla_Regresion = np.zeros((Caminos_EnEl_Dinero.sum(),4))\n",
    "            Tabla_Regresion[:,0] = Caminos_Subyacente[:,t][Caminos_EnEl_Dinero] #np.vectorize(mt.exp)(-Caminos_Subyacente[:,t][Caminos_EnEl_Dinero]/2)\n",
    "            Tabla_Regresion[:,1] = Caminos_Subyacente[:,t][Caminos_EnEl_Dinero]**2 #np.vectorize(mt.exp)(-Caminos_Subyacente[:,t][Caminos_EnEl_Dinero]/2)*(1-Caminos_Subyacente[:,t][Caminos_EnEl_Dinero])\n",
    "            Tabla_Regresion[:,2] = Caminos_Subyacente[:,t][Caminos_EnEl_Dinero]**3 #np.vectorize(mt.exp)(-Caminos_Subyacente[:,t][Caminos_EnEl_Dinero]/2)*(1-2*Caminos_Subyacente[:,t][Caminos_EnEl_Dinero]+(Caminos_Subyacente[:,t][Caminos_EnEl_Dinero]**2)/2)\n",
    "            Modelo = LinearRegression().fit(Tabla_Regresion[:,0:3],Caminos_Derivado[:,t][Caminos_EnEl_Dinero])\n",
    "            #print(Modelo.score(Tabla_Regresion[:,0:3],Caminos_Derivado[:,t][Caminos_EnEl_Dinero]))\n",
    "            Tabla_Regresion[:,3] = Modelo.intercept_ + Modelo.coef_[0]*Tabla_Regresion[:,0] + Modelo.coef_[1]*Tabla_Regresion[:,1] + Modelo.coef_[2]*Tabla_Regresion[:,2] # Valor de Continuidad Esperado\n",
    "            # Your next line is: Si E[HV]<EV entonces EV, HV En otro caso (OV)\n",
    "            Caminos_Derivado[np.where(Caminos_EnEl_Dinero==True),t] = np.where(Tabla_Regresion[:,3]<(Caminos_Subyacente[:,t][Caminos_EnEl_Dinero]-Strike)*Call_Put,(Caminos_Subyacente[:,t][Caminos_EnEl_Dinero]-Strike)*Call_Put,Caminos_Derivado[:,t][Caminos_EnEl_Dinero])\n",
    "            #Caminos_Derivado[np.where((Caminos_EnEl_Dinero==True)&(Tabla_Regresion[:,3]<(Caminos_Subyacente[:,t][Caminos_EnEl_Dinero]-Strike)*Call_Put)),t+1] = 0   \n",
    "\n",
    "    #return pd.DataFrame(Caminos_Subyacente)\n",
    "    return Caminos_Derivado[:,0].mean()"
   ]
  },
  {
   "cell_type": "code",
   "execution_count": 17,
   "metadata": {
    "scrolled": true
   },
   "outputs": [
    {
     "data": {
      "text/plain": [
       "2.1969100371412447"
      ]
     },
     "execution_count": 17,
     "metadata": {},
     "output_type": "execute_result"
    }
   ],
   "source": [
    "LSM(Spot=20.25,Strike=22,Vencimiento=287,Volatilidad=.32,TLibre_Riesgo=IRSTIIE[287-1]/100,Call_Put=1,NumSim=7500,CambiosXDia=1)"
   ]
  }
 ],
 "metadata": {
  "kernelspec": {
   "display_name": "Python 3",
   "language": "python",
   "name": "python3"
  },
  "language_info": {
   "codemirror_mode": {
    "name": "ipython",
    "version": 3
   },
   "file_extension": ".py",
   "mimetype": "text/x-python",
   "name": "python",
   "nbconvert_exporter": "python",
   "pygments_lexer": "ipython3",
   "version": "3.7.3"
  }
 },
 "nbformat": 4,
 "nbformat_minor": 2
}
